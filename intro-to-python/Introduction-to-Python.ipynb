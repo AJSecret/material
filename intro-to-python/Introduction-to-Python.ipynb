{
 "cells": [
  {
   "cell_type": "markdown",
   "metadata": {},
   "source": [
    "# Introduction to Python: Labs\n",
    "\n",
    "Welcome to the Python lab! Work through this sheet in pairs, making sure that you understand each bit of code before you move on.\n",
    "\n",
    "If you get something wrong, let us know! Other people may have done the same thing; maybe you can help them.\n",
    "\n",
    "## 1: Basics\n",
    "\n",
    "Try the following in the Python REPL. What do they do?"
   ]
  },
  {
   "cell_type": "code",
   "execution_count": null,
   "metadata": {},
   "outputs": [],
   "source": [
    "print \"hello\"\n",
    "print hello"
   ]
  },
  {
   "cell_type": "markdown",
   "metadata": {},
   "source": [
    "Let's do some maths!"
   ]
  },
  {
   "cell_type": "code",
   "execution_count": null,
   "metadata": {
    "scrolled": true
   },
   "outputs": [],
   "source": [
    "4 + 5\n",
    "8 * 3\n",
    "4 / 3\n",
    "4.0 / 3\n",
    "3 + 5 + 9"
   ]
  },
  {
   "cell_type": "markdown",
   "metadata": {},
   "source": [
    "Adding Strings?"
   ]
  },
  {
   "cell_type": "code",
   "execution_count": null,
   "metadata": {},
   "outputs": [],
   "source": [
    "\"abc\" + \"def\"\n",
    "\"hello\" + \" \" + \"world\"\n",
    "\"123\" + \"5\""
   ]
  },
  {
   "cell_type": "markdown",
   "metadata": {},
   "source": [
    "Variables!"
   ]
  },
  {
   "cell_type": "code",
   "execution_count": null,
   "metadata": {},
   "outputs": [],
   "source": [
    "first = \"hello\"\n",
    "second = \"world\"\n",
    "first + \" \" + second\n",
    "type(first)\n",
    "print first"
   ]
  },
  {
   "cell_type": "markdown",
   "metadata": {},
   "source": [
    "User input?"
   ]
  },
  {
   "cell_type": "code",
   "execution_count": null,
   "metadata": {},
   "outputs": [],
   "source": [
    "name = raw_input(\"What is your name?\")\n",
    "type(name)\n",
    "age = int(raw_input(\"What is your age?\"))\n",
    "type(age)"
   ]
  },
  {
   "cell_type": "markdown",
   "metadata": {},
   "source": [
    "Write some code that:\n",
    " * Converts 32 degrees to radian (HINT: math.pi!).\n",
    " * Asks the user for a radius then prints out the surface area and volume of a sphere.\n",
    " * Tells the user what time of day it is, in a nice format.\n",
    " * Splits a sentence into its words\n",
    " * Joins a list of words into a sentence. Find TWO ways to do this!\n",
    " \n",
    "## 2: Functions\n",
    "\n",
    "In a file called `person.py`:\n",
    "\n",
    " * Write a function called `get_age` that asks the user for their age, and returns it as an `int`\n",
    " * Write another function called `get_name`, which does the same but for the users age\n",
    " * Call both these functions and tell the user what you know about them!\n",
    "\n",
    "In a file called `my_maths.py`:\n",
    "\n",
    "Write a function called calculate that takes one `string` and two `int` arguments. The string should be \"add\", \"subtract\", \"multiply\" or \"divide\", or any of those words in uppercase. The `calculate` function should then do the right operation with the two numbers and return the result.\n",
    "\n",
    "## 3: Loops\n",
    "\n",
    "In a file called `while_loop.py`, write the following code:"
   ]
  },
  {
   "cell_type": "code",
   "execution_count": null,
   "metadata": {},
   "outputs": [],
   "source": [
    "i = 0\n",
    "while(i < 10):\n",
    "    i = i + 1\n",
    "    print i"
   ]
  },
  {
   "cell_type": "markdown",
   "metadata": {},
   "source": [
    " * Explain what's happening. Can you print the numbers from 7 to 19?\n",
    " * Can you print all the `even` numbers between 12 and 20?\n",
    " * Write a function called `evens` that takes two numbers and prints all the even numbers between them.\n",
    " * Write another function, `reverse_evens`, that does the same but prints the numbers in reverse.\n",
    " \n",
    "In a file called `for_loop.py`, write the following code:"
   ]
  },
  {
   "cell_type": "code",
   "execution_count": null,
   "metadata": {},
   "outputs": [],
   "source": [
    "for i in range(1,11):\n",
    "    print i"
   ]
  },
  {
   "cell_type": "markdown",
   "metadata": {},
   "source": [
    " * Explain what's happening. What is `i`? What is `range`?"
   ]
  },
  {
   "cell_type": "markdown",
   "metadata": {},
   "source": [
    "Type the following code:"
   ]
  },
  {
   "cell_type": "code",
   "execution_count": null,
   "metadata": {},
   "outputs": [],
   "source": [
    "for j in [1, 2, 3]:\n",
    "    print j"
   ]
  },
  {
   "cell_type": "markdown",
   "metadata": {},
   "source": [
    " * Explain what's happening. How can you use range to do the same thing?\n",
    " * What's the `type` of `[1, 2, 3]`? What `type` of data does `range `return?\n",
    " * Can you use `range` to return the list `[0, 2, 4, 6, 8, 10, 12, 14, 16, 18]`?\n",
    " * Write a function to produce the following output:\n",
    " \n",
    "```\n",
    "   ****\n",
    "   ****\n",
    "   ****\n",
    "   ****\n",
    "```\n",
    "\n",
    "* Write a function to produce the following output:\n",
    "\n",
    "```\n",
    "    *\n",
    "    **\n",
    "    ***\n",
    "    ****\n",
    "    ***\n",
    "    **\n",
    "    *\n",
    "```\n",
    "\n",
    "* Write a function that takes a `string` and returns `True` if the string contains the letter 'a', otherwise returns `False`. Don't use Python's `in` operator, write the code yourself!\n",
    "\n",
    "* Change your function to work for _any_ letter.\n",
    "\n",
    "* Use your function in _another_ function that returns `True` if the string contains the letters 's' and 'm', otherwise returns `False`.\n",
    "\n",
    "\n",
    "## 4: If\n",
    "In a file called `conditional.py`, write the following code:"
   ]
  },
  {
   "cell_type": "code",
   "execution_count": null,
   "metadata": {},
   "outputs": [],
   "source": [
    "i = 8\n",
    "if(i % 2 == 0):\n",
    "    print \"Even Number\"\n",
    "else:\n",
    "    print \"Odd Number\""
   ]
  },
  {
   "cell_type": "markdown",
   "metadata": {},
   "source": [
    " * What is `%`? What is `i % 2`?\n",
    " * Write a function called `evens` that takes a list of numbers and returns the sum of all the even numbers\n",
    " * Copy your function that asks for a persons age. Tell them if you think they're old or not!\n",
    " * Write a function that asks the user for the *year* they were born, then calculates roughly how old they are. \n",
    " * Find out the definition of a leap year. Write a function that asks the user the year they were born, and then tells them if that year was a leap year.\n",
    "\n",
    "## 5: Lists\n",
    "\n",
    "In a file called `lists.py`, type the following code:"
   ]
  },
  {
   "cell_type": "code",
   "execution_count": null,
   "metadata": {},
   "outputs": [],
   "source": [
    "list = []\n",
    "list.append('a')\n",
    "print list"
   ]
  },
  {
   "cell_type": "markdown",
   "metadata": {},
   "source": [
    " * Explain what each line does.\n",
    " * Using the python you've already learned, write a function that:\n",
    "  * Takes two arguments - the min and max values\n",
    "  * Returns a list of the even numbers between min and max\n",
    "  \n",
    "  ## 6: Tuples\n",
    "In the file `tuples.py`, write two functions:\n",
    "* `partition` should take a number and return a 2-tuple, with the number on the *left* if it's even, and\n",
    "on the *right* if it's odd. The other slot should be filled with the constant `None`\n",
    "* `partition_list`, which takes a list of numbers and returns a 2-tuple of *lists*. It should use your\n",
    "`partition` function to split the input list into the odd numbers and the even numbers.\n",
    "\n",
    "# Book\n",
    "Great work! If you got this far, you'll know enough Python to finish the programme. Well done!\n",
    "\n",
    "If you want to learn more, there's a great book that's available for *free* online. Take a look: [Think Python, by Allen B. Downey](http://greenteapress.com/wp/think-python/)\n",
    "\n",
    "# Stretch\n",
    "Well done if you've come so far. Below are some harder labs that will take more time. Everyone should hopefully get at least this far :)\n",
    "\n",
    "## Stretch: Roman Numerals\n",
    "Write a function that takes a number and prints out its value in *Roman Numerals*\n",
    "\n",
    "e.g. 3 = III, 56 = LVI etc...\n",
    "\n",
    "## Stretch: Complex numbers\n",
    "Investigate the `complex` numeric type. In a file called `mandelbrot.py`, write a function called `mandelbrot`\n",
    "that takes a number `n` and prints out the <a href=\"en.wikipedia.org/mandelbrot_set\">Mandelbrot Set</a>\n",
    "using ascii characters in an `n` x `n` matrix.\n",
    "\n",
    "## Stretch: tic-tac-toe\n",
    "Write a tic-tac-toe game. Firstly, it should print out an empty grid, then wait for input. Players take\n",
    "turns entering coordinates in the form (x, y). The game adds a O or an X in the right square, then prints\n",
    "out the grid again.\n",
    "\n",
    "Make good use of functions to split up your code. For example, you could write a function `print_grid`\n",
    "which takes the grid state as an argument and prints it to the console.\n",
    "\n",
    "## Stretch: \n",
    "Write a single-player game where the computer plays against you. Are you better at Python than you are at tic-tac-toe? :)"
   ]
  },
  {
   "cell_type": "code",
   "execution_count": null,
   "metadata": {},
   "outputs": [],
   "source": []
  }
 ],
 "metadata": {
  "kernelspec": {
   "display_name": "Python 2",
   "language": "python",
   "name": "python2"
  },
  "language_info": {
   "codemirror_mode": {
    "name": "ipython",
    "version": 2
   },
   "file_extension": ".py",
   "mimetype": "text/x-python",
   "name": "python",
   "nbconvert_exporter": "python",
   "pygments_lexer": "ipython2",
   "version": "2.7.10"
  }
 },
 "nbformat": 4,
 "nbformat_minor": 2
}
