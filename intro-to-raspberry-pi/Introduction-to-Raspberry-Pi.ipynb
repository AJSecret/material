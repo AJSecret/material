{
 "cells": [
  {
   "cell_type": "markdown",
   "metadata": {},
   "source": [
    "# Introduction to Raspberry Pi: Labs"
   ]
  },
  {
   "cell_type": "markdown",
   "metadata": {},
   "source": [
    "Welcome to the Raspberry Pi lab!\n",
    "\n",
    "Work through this lab on your own or with friends. We'll do the first few topics together, then you're free to have a play around on your own!\n",
    "\n",
    "## Set up your Raspberry Pi\n",
    "\n",
    "Push the SD card firmly into your Raspberry Pi. Plug the Keyboard and Mouse into the USB ports on the side, and plug in the screen using the HDMI cable that comes with it.\n",
    "\n",
    "Finally, using the cable that comes with your Pi, plug it in! Check you can see the green light on the board, and you should see the Raspberry Pi logo on the screen.\n",
    "\n",
    "## Install\n",
    "\n",
    "First, check you're connected to the internet!\n",
    "\n",
    "Before we really get started, there's two things we need to do together. Use the mouse to click the raspberry icon in the top-left corner of the screen, then find the Terminal in the Accessories menu.\n",
    "\n",
    "Then enter these commands:"
   ]
  },
  {
   "cell_type": "code",
   "execution_count": null,
   "metadata": {},
   "outputs": [],
   "source": [
    "sudo apt-get update\n",
    "sudo apt-get -y upgrade\n",
    "sudo apt-get -y install rpi-update\n",
    "sudo rpi-update\n",
    "sudo shutdown -r now"
   ]
  },
  {
   "cell_type": "markdown",
   "metadata": {},
   "source": [
    "Some of them might take quite a while - we're downloading the latest version of the Raspbian OS, so you have all the latest patches.\n",
    "\n",
    "## Setup\n",
    "\n",
    "Once your raspberry pi has rebooted, re-open the Terminal app. Use the `whoami` command to find out your username - what is it?\n",
    "\n",
    "The Raspberry Pi comes with a default user called pi, who has the password raspberry. Let's add a new user and do some setup. Enter the following commands, replacing \"<username>\" with a username you want to use. Try your first name!"
   ]
  },
  {
   "cell_type": "code",
   "execution_count": null,
   "metadata": {},
   "outputs": [],
   "source": [
    "sudo adduser <username>\n",
    "sudo usermod -a -G adm,dialout,cdrom,sudo,audio,video,plugdev,games,users,input,netdev,spi,i2c,gpio <username>"
   ]
  },
  {
   "cell_type": "markdown",
   "metadata": {},
   "source": [
    "These commands will ask you for a new password, along with some other details. Choose something only you know, that you can remember easily!\n",
    "\n",
    "Now, from the Applications menu, find Raspberry Pi Configuration under Preferences. Uncheck the box next to \"Login as user 'pi'\". This means you'll now have to enter your username and password whenever you want to login to your Pi. You'll also now have to enter your password whenever you use the \"sudo\" command :)\n",
    "\n",
    "Reboot your Pi and login, using your new account. Now we need to remove the default \"pi\" account. Open the Terminal again, and enter the following command:"
   ]
  },
  {
   "cell_type": "code",
   "execution_count": null,
   "metadata": {},
   "outputs": [],
   "source": [
    "sudo userdel -r pi"
   ]
  },
  {
   "cell_type": "markdown",
   "metadata": {},
   "source": [
    "This has deleted the original default user. Now someone needs to know your password before they can login!\n",
    "\n",
    "Finally, let's create the directory that you'll be doing most of your work in:"
   ]
  },
  {
   "cell_type": "code",
   "execution_count": null,
   "metadata": {},
   "outputs": [],
   "source": [
    "mkdir dev"
   ]
  },
  {
   "cell_type": "markdown",
   "metadata": {},
   "source": [
    "Now we're done!\n",
    "\n",
    "## Discover\n",
    "\n",
    "Find out:\n",
    "\n",
    " * What does sudo do? Type man sudo in a terminal window to read the manual page for the sudo command.\n",
    " * How do I add another desktop?\n",
    " * In the terminal, what does the command pwd do?\n",
    "  * What does cd do? What about ls?\n",
    "\n",
    "## Play\n",
    "\n",
    "Go ahead and play around - it's your computer now! Try these things:\n",
    "\n",
    " * Change the background image to something you like. There's a bunch of great hi-res photography at [UnSplash](https://unsplash.com) :)\n",
    " * Change the appearance settings\n",
    " * Change the shortcuts in the application launch bar - I prefer the \"Chromium Web Browser\", for example.\n",
    " * Check your email and join our slack channel!\n",
    " \n",
    "## Install\n",
    "\n",
    "When you get a moment, please install the following pieces of software:\n",
    "\n",
    "postgresql, a database:"
   ]
  },
  {
   "cell_type": "code",
   "execution_count": null,
   "metadata": {},
   "outputs": [],
   "source": [
    "sudo apt-get install postgresql"
   ]
  },
  {
   "cell_type": "markdown",
   "metadata": {},
   "source": [
    "Ninja, an IDE:"
   ]
  },
  {
   "cell_type": "code",
   "execution_count": null,
   "metadata": {},
   "outputs": [],
   "source": [
    "sudo apt-get install ninja-ide"
   ]
  },
  {
   "cell_type": "markdown",
   "metadata": {},
   "source": [
    "Mosquitto, an MQTT program we'll be using next week:"
   ]
  },
  {
   "cell_type": "code",
   "execution_count": null,
   "metadata": {},
   "outputs": [],
   "source": [
    "sudo apt-get install mosquitto mosquitto-clients"
   ]
  },
  {
   "cell_type": "markdown",
   "metadata": {},
   "source": [
    "## I'm brave!\n",
    "\n",
    "If you're really brave, or you've used linux before, why not install a different distro? There's a bunch available [here](https://www.raspberrypi.org/downloads/).\n",
    "\n",
    "If you know a bit of Python already, why not explore the GPIO pins on your Raspberry Pi? We'll get there next week but feel free to look ahead: details [here](https://www.raspberrypi.org/blog/gpio-zero-a-friendly-python-api-for-physical-computing/)\n",
    "\n",
    "Next\n",
    "Next, we need to learn linux. Follow the Linux labs next!"
   ]
  }
 ],
 "metadata": {
  "kernelspec": {
   "display_name": "Bash",
   "language": "bash",
   "name": "bash"
  },
  "language_info": {
   "codemirror_mode": "shell",
   "file_extension": ".sh",
   "mimetype": "text/x-sh",
   "name": "bash"
  }
 },
 "nbformat": 4,
 "nbformat_minor": 2
}
